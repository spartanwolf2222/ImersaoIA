{
  "nbformat": 4,
  "nbformat_minor": 0,
  "metadata": {
    "colab": {
      "provenance": [],
      "authorship_tag": "ABX9TyN05RX0zGsYMSWfJI7raKVI",
      "include_colab_link": true
    },
    "kernelspec": {
      "name": "python3",
      "display_name": "Python 3"
    },
    "language_info": {
      "name": "python"
    }
  },
  "cells": [
    {
      "cell_type": "markdown",
      "metadata": {
        "id": "view-in-github",
        "colab_type": "text"
      },
      "source": [
        "<a href=\"https://colab.research.google.com/github/spartanwolf2222/ImersaoIA/blob/main/Projeto_Imers%C3%A3o_IA_Aula_4.ipynb\" target=\"_parent\"><img src=\"https://colab.research.google.com/assets/colab-badge.svg\" alt=\"Open In Colab\"/></a>"
      ]
    },
    {
      "cell_type": "markdown",
      "source": [
        "Instalando o SDK do Google:"
      ],
      "metadata": {
        "id": "SBw378BFN9iE"
      }
    },
    {
      "cell_type": "code",
      "source": [
        "!pip install -q -U google-generativeai"
      ],
      "metadata": {
        "id": "wjvCWwPgOFRl"
      },
      "execution_count": null,
      "outputs": []
    },
    {
      "cell_type": "markdown",
      "source": [
        "Configurando a API Key do Google:"
      ],
      "metadata": {
        "id": "vslqQcvQPZtg"
      }
    },
    {
      "cell_type": "code",
      "source": [
        "import google.generativeai as genai\n",
        "\n",
        "from google.colab import userdata\n",
        "api_key = userdata.get('Secret_Key')\n",
        "\n",
        "genai.configure(api_key=api_key)"
      ],
      "metadata": {
        "id": "4o5x670OOc4w"
      },
      "execution_count": null,
      "outputs": []
    },
    {
      "cell_type": "markdown",
      "source": [
        "Listando os modelos disponíveis:"
      ],
      "metadata": {
        "id": "1qu1aZsWQPbH"
      }
    },
    {
      "cell_type": "code",
      "source": [
        "for m in genai.list_models():\n",
        "    if 'generateContent' in m.supported_generation_methods:\n",
        "        print(m.name)"
      ],
      "metadata": {
        "colab": {
          "base_uri": "https://localhost:8080/",
          "height": 138
        },
        "id": "93wrnTgzQT_q",
        "outputId": "38ebdd67-77c8-4513-d366-772f1842379b"
      },
      "execution_count": null,
      "outputs": [
        {
          "output_type": "stream",
          "name": "stdout",
          "text": [
            "models/gemini-1.0-pro\n",
            "models/gemini-1.0-pro-001\n",
            "models/gemini-1.0-pro-latest\n",
            "models/gemini-1.0-pro-vision-latest\n",
            "models/gemini-1.5-pro-latest\n",
            "models/gemini-pro\n",
            "models/gemini-pro-vision\n"
          ]
        }
      ]
    },
    {
      "cell_type": "markdown",
      "source": [
        "OBS:\n",
        "Gemini pro: solicitações/prompt apenas em texto\n",
        "Gemini pro vision: multimodalidade, onde pode incluir além do texto, como imagem, arquivo e aúdio\n",
        "\n",
        "existe a versão estável e experimental, sendo o que terminar em números ex: Gemini 1.0 pro 001 será a versão experimental e o que não tiver será a versão estável, ex: Gemini 1.0 Pro\n",
        "A versão latest vai para a última versão do modelo\n",
        "\n"
      ],
      "metadata": {
        "id": "zLafVbyAQyy2"
      }
    },
    {
      "cell_type": "markdown",
      "source": [
        "------------------------------------------------------------------------\n",
        "Configurando os parametros do modelo:"
      ],
      "metadata": {
        "id": "JEky0OEATswQ"
      }
    },
    {
      "cell_type": "code",
      "source": [
        "GenerationConfig = {\n",
        "    'candidate_count': 1,\n",
        "    'temperature': 0.5\n",
        "}"
      ],
      "metadata": {
        "id": "f9EDMdfwTr1j"
      },
      "execution_count": null,
      "outputs": []
    },
    {
      "cell_type": "markdown",
      "source": [
        "Dependendo do que está sendo pedido, pode haver mais de uma resposta e para facilitar se usa o comando 'candidate_count' para escolher a quantidade"
      ],
      "metadata": {
        "id": "bPud9iEpX_s4"
      }
    },
    {
      "cell_type": "markdown",
      "source": [
        "Configurando as camadas de segurança:"
      ],
      "metadata": {
        "id": "W9sj80DaVGDg"
      }
    },
    {
      "cell_type": "code",
      "source": [
        "safety_settings = {\n",
        "    'HARASSMENT' : 'BLOCK_NONE',\n",
        "    'HATE' : 'BLOCK_NONE',\n",
        "    'SEXUAL' : 'BLOCK_NONE',\n",
        "    'DANGEROUS' : 'BLOCK_NONE'\n",
        "}"
      ],
      "metadata": {
        "id": "V675ELKeVNhL"
      },
      "execution_count": null,
      "outputs": []
    },
    {
      "cell_type": "markdown",
      "source": [
        "Inicializando o modelo:\n",
        "-colocar o modelo que deseja usar, as configurações de parametros e das camadas de segurança"
      ],
      "metadata": {
        "id": "-zGl51mIV4_x"
      }
    },
    {
      "cell_type": "code",
      "source": [
        "model = genai.GenerativeModel(model_name='gemini-1.0-pro',\n",
        "                              generation_config=GenerationConfig,\n",
        "                              safety_settings=safety_settings)"
      ],
      "metadata": {
        "id": "uS92i4-9V8Wj"
      },
      "execution_count": null,
      "outputs": []
    },
    {
      "cell_type": "markdown",
      "source": [
        "Gerando um chat:"
      ],
      "metadata": {
        "id": "bPPU_qhBXXIx"
      }
    },
    {
      "cell_type": "code",
      "source": [
        "chat = model.start_chat(history=[])"
      ],
      "metadata": {
        "id": "8qbN5cVRXc7P"
      },
      "execution_count": null,
      "outputs": []
    },
    {
      "cell_type": "code",
      "source": [
        "prompt = input('Digite o prompt: ')\n",
        "\n",
        "while prompt != 'sair':\n",
        "    response = chat.send_message(prompt)\n",
        "    print('Resposta: ', response.text, '\\n')\n",
        "    prompt = input('Digite o prompt: ')"
      ],
      "metadata": {
        "colab": {
          "base_uri": "https://localhost:8080/",
          "height": 138
        },
        "id": "pn2y2ruOaFF8",
        "outputId": "b03b0424-9760-4506-958d-bbf14f2cc488"
      },
      "execution_count": null,
      "outputs": [
        {
          "name": "stdout",
          "output_type": "stream",
          "text": [
            "Digite o prompt: Qual a Capital do Brasil?\n",
            "Resposta:  **Brasília** \n",
            "\n",
            "Digite o prompt: Fica em qual estado?\n",
            "Resposta:  **Distrito Federal** \n",
            "\n",
            "Digite o prompt: sair\n"
          ]
        }
      ]
    },
    {
      "cell_type": "code",
      "source": [
        "chat"
      ],
      "metadata": {
        "colab": {
          "base_uri": "https://localhost:8080/"
        },
        "id": "CQVOdaa3djro",
        "outputId": "50e099e5-4c09-499d-8741-9392319310c9"
      },
      "execution_count": null,
      "outputs": [
        {
          "output_type": "execute_result",
          "data": {
            "text/plain": [
              "ChatSession(\n",
              "    model=genai.GenerativeModel(\n",
              "        model_name='models/gemini-1.0-pro',\n",
              "        generation_config={'candidate_count': 1, 'temperature': 0.5},\n",
              "        safety_settings={<HarmCategory.HARM_CATEGORY_HARASSMENT: 7>: <HarmBlockThreshold.BLOCK_NONE: 4>, <HarmCategory.HARM_CATEGORY_HATE_SPEECH: 8>: <HarmBlockThreshold.BLOCK_NONE: 4>, <HarmCategory.HARM_CATEGORY_SEXUALLY_EXPLICIT: 9>: <HarmBlockThreshold.BLOCK_NONE: 4>, <HarmCategory.HARM_CATEGORY_DANGEROUS_CONTENT: 10>: <HarmBlockThreshold.BLOCK_NONE: 4>},\n",
              "        tools=None,\n",
              "        system_instruction=None,\n",
              "    ),\n",
              "    history=[glm.Content({'parts': [{'text': 'o que é IA?'}], 'role': 'user'}), glm.Content({'parts': [{'text': 'Inteligência...ntretenimento'}], 'role': 'model'}), glm.Content({'parts': [{'text': 'Me fale sobre Alura'}], 'role': 'user'}), glm.Content({'parts': [{'text': '**Alura** é ... de carreira.'}], 'role': 'model'}), glm.Content({'parts': [{'text': 'Quem fundou?'}], 'role': 'user'}), glm.Content({'parts': [{'text': 'A Alura foi ...versas áreas.'}], 'role': 'model'}), glm.Content({'parts': [{'text': 'Qual a Capital do Brasil?'}], 'role': 'user'}), glm.Content({'parts': [{'text': '**Brasília**'}], 'role': 'model'}), glm.Content({'parts': [{'text': 'Fica em qual estado?'}], 'role': 'user'}), glm.Content({'parts': [{'text': '**Distrito Federal**'}], 'role': 'model'})]\n",
              ")"
            ]
          },
          "metadata": {},
          "execution_count": 24
        }
      ]
    },
    {
      "cell_type": "code",
      "source": [
        "chat.history"
      ],
      "metadata": {
        "colab": {
          "base_uri": "https://localhost:8080/"
        },
        "id": "lStnJHAHdqGt",
        "outputId": "43c03ed1-9b05-4432-f630-3e15f12fb0d0"
      },
      "execution_count": null,
      "outputs": [
        {
          "output_type": "execute_result",
          "data": {
            "text/plain": [
              "[parts {\n",
              "   text: \"o que \\303\\251 IA?\"\n",
              " }\n",
              " role: \"user\",\n",
              " parts {\n",
              "   text: \"Intelig\\303\\252ncia Artificial (IA) \\303\\251 um campo da ci\\303\\252ncia da computa\\303\\247\\303\\243o que visa criar m\\303\\241quinas que possam executar tarefas que normalmente requerem intelig\\303\\252ncia humana, como aprendizado, resolu\\303\\247\\303\\243o de problemas e tomada de decis\\303\\243o.\\n\\n**Caracter\\303\\255sticas da IA:**\\n\\n* **Aprendizado de M\\303\\241quina:** Capacidade de aprender com dados sem ser explicitamente programado.\\n* **Processamento de Linguagem Natural:** Capacidade de entender e gerar linguagem humana.\\n* **Vis\\303\\243o Computacional:** Capacidade de interpretar e analisar imagens e v\\303\\255deos.\\n* **Tomada de Decis\\303\\243o:** Capacidade de analisar informa\\303\\247\\303\\265es e tomar decis\\303\\265es com base em crit\\303\\251rios predefinidos.\\n* **Resolu\\303\\247\\303\\243o de Problemas:** Capacidade de identificar e resolver problemas usando abordagens l\\303\\263gicas e heur\\303\\255sticas.\\n\\n**Tipos de IA:**\\n\\n* **IA Fraca (estreita):** Projetada para executar tarefas espec\\303\\255ficas, como reconhecimento facial ou tradu\\303\\247\\303\\243o de idiomas.\\n* **IA Geral (forte):** Projetada para executar uma ampla gama de tarefas, assim como os humanos.\\n* **Super IA:** Projetada para superar as capacidades intelectuais humanas em todos os aspectos.\\n\\n**Aplica\\303\\247\\303\\265es da IA:**\\n\\n* Assistentes virtuais\\n* Ve\\303\\255culos aut\\303\\264nomos\\n* Diagn\\303\\263stico m\\303\\251dico\\n* Processamento de dados\\n* Ciberseguran\\303\\247a\\n* Automa\\303\\247\\303\\243o de processos\\n* Pesquisa cient\\303\\255fica\\n* Entretenimento\"\n",
              " }\n",
              " role: \"model\",\n",
              " parts {\n",
              "   text: \"Me fale sobre Alura\"\n",
              " }\n",
              " role: \"user\",\n",
              " parts {\n",
              "   text: \"**Alura** \\303\\251 uma plataforma brasileira de educa\\303\\247\\303\\243o online fundada em 2011. Ela oferece cursos em diversas \\303\\241reas, incluindo:\\n\\n* Tecnologia\\n* Neg\\303\\263cios\\n* Design\\n* Marketing\\n* Idiomas\\n* Soft skills\\n\\n**Caracter\\303\\255sticas da Alura:**\\n\\n* **Cursos online:** Mais de 2.000 cursos dispon\\303\\255veis, ministrados por especialistas na \\303\\241rea.\\n* **Aprendizado interativo:** Aulas em v\\303\\255deo, exerc\\303\\255cios pr\\303\\241ticos e projetos para refor\\303\\247ar o aprendizado.\\n* **Certificados:** Certificados de conclus\\303\\243o para todos os cursos.\\n* **Comunidade:** F\\303\\263runs e grupos de discuss\\303\\243o para conectar alunos e trocar experi\\303\\252ncias.\\n* **Trilhas de aprendizagem:** Sequ\\303\\252ncias de cursos organizadas para guiar os alunos em dire\\303\\247\\303\\243o a objetivos espec\\303\\255ficos de carreira.\\n\\n**Vantagens da Alura:**\\n\\n* **Flexibilidade:** Os alunos podem estudar no seu pr\\303\\263prio ritmo e hor\\303\\241rio.\\n* **Acessibilidade:** Cursos acess\\303\\255veis para pessoas de todos os n\\303\\255veis de conhecimento.\\n* **Atualiza\\303\\247\\303\\243o constante:** Novos cursos e atualiza\\303\\247\\303\\265es s\\303\\243o adicionados regularmente.\\n* **Reconhecimento do mercado:** Os certificados da Alura s\\303\\243o reconhecidos por empresas e institui\\303\\247\\303\\265es de ensino.\\n* **Suporte ao aluno:** Equipe de suporte dedicada para ajudar os alunos com d\\303\\272vidas e problemas t\\303\\251cnicos.\\n\\n**\\303\\201reas de atua\\303\\247\\303\\243o da Alura:**\\n\\n* Desenvolvimento de software\\n* Ci\\303\\252ncia de dados\\n* Design UX/UI\\n* Marketing digital\\n* Gest\\303\\243o de neg\\303\\263cios\\n* Idiomas (ingl\\303\\252s, espanhol, franc\\303\\252s, alem\\303\\243o)\\n* Soft skills (comunica\\303\\247\\303\\243o, lideran\\303\\247a, gest\\303\\243o de tempo)\\n\\nA Alura \\303\\251 uma op\\303\\247\\303\\243o popular para profissionais que buscam aprimorar suas habilidades, estudantes que desejam complementar seus estudos e pessoas que buscam uma mudan\\303\\247a de carreira.\"\n",
              " }\n",
              " role: \"model\",\n",
              " parts {\n",
              "   text: \"Quem fundou?\"\n",
              " }\n",
              " role: \"user\",\n",
              " parts {\n",
              "   text: \"A Alura foi fundada por:\\n\\n* **Andr\\303\\251 Barrence:** Engenheiro de software e empreendedor.\\n* **Guilherme Junqueira:** Engenheiro de software e empreendedor.\\n* **Luigi Farinello:** Engenheiro de software e empreendedor.\\n\\nOs tr\\303\\252s fundadores se conheceram enquanto trabalhavam na ThoughtWorks, uma empresa de consultoria em tecnologia. Eles perceberam a necessidade de uma plataforma de educa\\303\\247\\303\\243o online que oferecesse cursos pr\\303\\241ticos e acess\\303\\255veis em \\303\\241reas de alta demanda.\\n\\nEm 2011, eles lan\\303\\247aram a Alura com um \\303\\272nico curso de desenvolvimento iOS. Desde ent\\303\\243o, a plataforma cresceu para oferecer mais de 2.000 cursos em diversas \\303\\241reas.\"\n",
              " }\n",
              " role: \"model\",\n",
              " parts {\n",
              "   text: \"Qual a Capital do Brasil?\"\n",
              " }\n",
              " role: \"user\",\n",
              " parts {\n",
              "   text: \"**Bras\\303\\255lia**\"\n",
              " }\n",
              " role: \"model\",\n",
              " parts {\n",
              "   text: \"Fica em qual estado?\"\n",
              " }\n",
              " role: \"user\",\n",
              " parts {\n",
              "   text: \"**Distrito Federal**\"\n",
              " }\n",
              " role: \"model\"]"
            ]
          },
          "metadata": {},
          "execution_count": 25
        }
      ]
    },
    {
      "cell_type": "code",
      "source": [
        "#Melhorando a visualização\n",
        "#Código disponível em https://ai.google.dev/tutorials/python_quickstart#import_packages\n",
        "import textwrap\n",
        "from IPython.display import display\n",
        "from IPython.display import Markdown\n",
        "\n",
        "def to_markdown(text):\n",
        "  text = text.replace('•', '  *')\n",
        "  return Markdown(textwrap.indent(text, '> ', predicate=lambda _: True))\n",
        "\n",
        "#Imprimindo o histórico\n",
        "for message in chat.history:\n",
        "  display(to_markdown(f'**{message.role}**: {message.parts[0].text}'))\n",
        "  print('-------------------------------------------')"
      ],
      "metadata": {
        "colab": {
          "base_uri": "https://localhost:8080/",
          "height": 1000
        },
        "id": "N5GOL9zTdVj2",
        "outputId": "966fd8dc-8627-4fe8-951c-47c88f6981dc"
      },
      "execution_count": null,
      "outputs": [
        {
          "output_type": "display_data",
          "data": {
            "text/plain": [
              "<IPython.core.display.Markdown object>"
            ],
            "text/markdown": "> **user**: o que é IA?"
          },
          "metadata": {}
        },
        {
          "output_type": "stream",
          "name": "stdout",
          "text": [
            "-------------------------------------------\n"
          ]
        },
        {
          "output_type": "display_data",
          "data": {
            "text/plain": [
              "<IPython.core.display.Markdown object>"
            ],
            "text/markdown": "> **model**: Inteligência Artificial (IA) é um campo da ciência da computação que visa criar máquinas que possam executar tarefas que normalmente requerem inteligência humana, como aprendizado, resolução de problemas e tomada de decisão.\n> \n> **Características da IA:**\n> \n> * **Aprendizado de Máquina:** Capacidade de aprender com dados sem ser explicitamente programado.\n> * **Processamento de Linguagem Natural:** Capacidade de entender e gerar linguagem humana.\n> * **Visão Computacional:** Capacidade de interpretar e analisar imagens e vídeos.\n> * **Tomada de Decisão:** Capacidade de analisar informações e tomar decisões com base em critérios predefinidos.\n> * **Resolução de Problemas:** Capacidade de identificar e resolver problemas usando abordagens lógicas e heurísticas.\n> \n> **Tipos de IA:**\n> \n> * **IA Fraca (estreita):** Projetada para executar tarefas específicas, como reconhecimento facial ou tradução de idiomas.\n> * **IA Geral (forte):** Projetada para executar uma ampla gama de tarefas, assim como os humanos.\n> * **Super IA:** Projetada para superar as capacidades intelectuais humanas em todos os aspectos.\n> \n> **Aplicações da IA:**\n> \n> * Assistentes virtuais\n> * Veículos autônomos\n> * Diagnóstico médico\n> * Processamento de dados\n> * Cibersegurança\n> * Automação de processos\n> * Pesquisa científica\n> * Entretenimento"
          },
          "metadata": {}
        },
        {
          "output_type": "stream",
          "name": "stdout",
          "text": [
            "-------------------------------------------\n"
          ]
        },
        {
          "output_type": "display_data",
          "data": {
            "text/plain": [
              "<IPython.core.display.Markdown object>"
            ],
            "text/markdown": "> **user**: Me fale sobre Alura"
          },
          "metadata": {}
        },
        {
          "output_type": "stream",
          "name": "stdout",
          "text": [
            "-------------------------------------------\n"
          ]
        },
        {
          "output_type": "display_data",
          "data": {
            "text/plain": [
              "<IPython.core.display.Markdown object>"
            ],
            "text/markdown": "> **model**: **Alura** é uma plataforma brasileira de educação online fundada em 2011. Ela oferece cursos em diversas áreas, incluindo:\n> \n> * Tecnologia\n> * Negócios\n> * Design\n> * Marketing\n> * Idiomas\n> * Soft skills\n> \n> **Características da Alura:**\n> \n> * **Cursos online:** Mais de 2.000 cursos disponíveis, ministrados por especialistas na área.\n> * **Aprendizado interativo:** Aulas em vídeo, exercícios práticos e projetos para reforçar o aprendizado.\n> * **Certificados:** Certificados de conclusão para todos os cursos.\n> * **Comunidade:** Fóruns e grupos de discussão para conectar alunos e trocar experiências.\n> * **Trilhas de aprendizagem:** Sequências de cursos organizadas para guiar os alunos em direção a objetivos específicos de carreira.\n> \n> **Vantagens da Alura:**\n> \n> * **Flexibilidade:** Os alunos podem estudar no seu próprio ritmo e horário.\n> * **Acessibilidade:** Cursos acessíveis para pessoas de todos os níveis de conhecimento.\n> * **Atualização constante:** Novos cursos e atualizações são adicionados regularmente.\n> * **Reconhecimento do mercado:** Os certificados da Alura são reconhecidos por empresas e instituições de ensino.\n> * **Suporte ao aluno:** Equipe de suporte dedicada para ajudar os alunos com dúvidas e problemas técnicos.\n> \n> **Áreas de atuação da Alura:**\n> \n> * Desenvolvimento de software\n> * Ciência de dados\n> * Design UX/UI\n> * Marketing digital\n> * Gestão de negócios\n> * Idiomas (inglês, espanhol, francês, alemão)\n> * Soft skills (comunicação, liderança, gestão de tempo)\n> \n> A Alura é uma opção popular para profissionais que buscam aprimorar suas habilidades, estudantes que desejam complementar seus estudos e pessoas que buscam uma mudança de carreira."
          },
          "metadata": {}
        },
        {
          "output_type": "stream",
          "name": "stdout",
          "text": [
            "-------------------------------------------\n"
          ]
        },
        {
          "output_type": "display_data",
          "data": {
            "text/plain": [
              "<IPython.core.display.Markdown object>"
            ],
            "text/markdown": "> **user**: Quem fundou?"
          },
          "metadata": {}
        },
        {
          "output_type": "stream",
          "name": "stdout",
          "text": [
            "-------------------------------------------\n"
          ]
        },
        {
          "output_type": "display_data",
          "data": {
            "text/plain": [
              "<IPython.core.display.Markdown object>"
            ],
            "text/markdown": "> **model**: A Alura foi fundada por:\n> \n> * **André Barrence:** Engenheiro de software e empreendedor.\n> * **Guilherme Junqueira:** Engenheiro de software e empreendedor.\n> * **Luigi Farinello:** Engenheiro de software e empreendedor.\n> \n> Os três fundadores se conheceram enquanto trabalhavam na ThoughtWorks, uma empresa de consultoria em tecnologia. Eles perceberam a necessidade de uma plataforma de educação online que oferecesse cursos práticos e acessíveis em áreas de alta demanda.\n> \n> Em 2011, eles lançaram a Alura com um único curso de desenvolvimento iOS. Desde então, a plataforma cresceu para oferecer mais de 2.000 cursos em diversas áreas."
          },
          "metadata": {}
        },
        {
          "output_type": "stream",
          "name": "stdout",
          "text": [
            "-------------------------------------------\n"
          ]
        },
        {
          "output_type": "display_data",
          "data": {
            "text/plain": [
              "<IPython.core.display.Markdown object>"
            ],
            "text/markdown": "> **user**: Qual a Capital do Brasil?"
          },
          "metadata": {}
        },
        {
          "output_type": "stream",
          "name": "stdout",
          "text": [
            "-------------------------------------------\n"
          ]
        },
        {
          "output_type": "display_data",
          "data": {
            "text/plain": [
              "<IPython.core.display.Markdown object>"
            ],
            "text/markdown": "> **model**: **Brasília**"
          },
          "metadata": {}
        },
        {
          "output_type": "stream",
          "name": "stdout",
          "text": [
            "-------------------------------------------\n"
          ]
        },
        {
          "output_type": "display_data",
          "data": {
            "text/plain": [
              "<IPython.core.display.Markdown object>"
            ],
            "text/markdown": "> **user**: Fica em qual estado?"
          },
          "metadata": {}
        },
        {
          "output_type": "stream",
          "name": "stdout",
          "text": [
            "-------------------------------------------\n"
          ]
        },
        {
          "output_type": "display_data",
          "data": {
            "text/plain": [
              "<IPython.core.display.Markdown object>"
            ],
            "text/markdown": "> **model**: **Distrito Federal**"
          },
          "metadata": {}
        },
        {
          "output_type": "stream",
          "name": "stdout",
          "text": [
            "-------------------------------------------\n"
          ]
        }
      ]
    }
  ]
}